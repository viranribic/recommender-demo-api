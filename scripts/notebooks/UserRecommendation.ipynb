{
 "cells": [
  {
   "cell_type": "markdown",
   "metadata": {},
   "source": [
    "First cell is necessary for running this notebook with django env (as if it was executed from an API call)."
   ]
  },
  {
   "cell_type": "code",
   "execution_count": 1,
   "metadata": {},
   "outputs": [],
   "source": [
    "import os, sys\n",
    "DJANGO_ROOT = os.path.abspath(os.path.join(os.getcwd(),'../../'))\n",
    "sys.path.insert(0,DJANGO_ROOT)\n",
    "os.environ.setdefault(\"DJANGO_SETTINGS_MODULE\", \"local_settings.py\")\n",
    "import django\n",
    "django.setup()"
   ]
  },
  {
   "cell_type": "code",
   "execution_count": 9,
   "metadata": {},
   "outputs": [],
   "source": [
    "from app.models import Profile, Image, LikedImages\n",
    "import cPickle as pckl"
   ]
  },
  {
   "cell_type": "markdown",
   "metadata": {},
   "source": [
    "# Like image"
   ]
  },
  {
   "cell_type": "code",
   "execution_count": 502,
   "metadata": {},
   "outputs": [],
   "source": [
    "data = {'like': False, 'id':1 }"
   ]
  },
  {
   "cell_type": "code",
   "execution_count": 503,
   "metadata": {},
   "outputs": [],
   "source": [
    "user = User.objects.all().first()"
   ]
  },
  {
   "cell_type": "code",
   "execution_count": 504,
   "metadata": {},
   "outputs": [],
   "source": [
    "profile = Profile.objects.all().first()"
   ]
  },
  {
   "cell_type": "code",
   "execution_count": 505,
   "metadata": {},
   "outputs": [],
   "source": [
    "# import numpy as np\n",
    "# profile.pref_vec = pckl.dumps( np.zeros_like(pckl.loads(str(profile.pref_vec))))\n",
    "# profile.img_count = 0\n",
    "# profile.save()"
   ]
  },
  {
   "cell_type": "code",
   "execution_count": 506,
   "metadata": {},
   "outputs": [],
   "source": [
    "query_res = LikedImages.objects.filter(user= user.id, img=data['id'] )\n",
    "\n",
    "if data['like']:\n",
    "    # Add the image to list if it's not there yet\n",
    "    if len(query_res) is 0:\n",
    "        image = Image.objects.filter(id=data['id']).first()\n",
    "\n",
    "        # update user preferences\n",
    "        profile = Profile.objects.filter(user_id=user.id).first()\n",
    "        profile_vec = pckl.loads(str(profile.pref_vec))\n",
    "        img_vec     = pckl.loads(str(image.txt_vec))\n",
    "\n",
    "        profile_vec = ((profile_vec * profile.img_count) + img_vec) / (profile.img_count + 1 )\n",
    "        profile.img_count += 1\n",
    "        profile.pref_vec = pckl.dumps(profile_vec)\n",
    "        profile.save()\n",
    "\n",
    "        # save like\n",
    "        li = LikedImages(user=user, img=image)\n",
    "        li.save()\n",
    "else:\n",
    "    if len(query_res) is 1:\n",
    "        result = query_res.first()\n",
    "        \n",
    "        # update user preferences\n",
    "        profile = Profile.objects.filter(user_id=user.id).first()\n",
    "        profile_vec = pckl.loads(str(profile.pref_vec))\n",
    "        img_vec     = pckl.loads(str(result.img.txt_vec))\n",
    "\n",
    "        profile_vec = ((profile_vec * profile.img_count) - img_vec)\n",
    "        profile_vec = profile_vec if profile.img_count == 1 else profile_vec / (profile.img_count - 1 )\n",
    "        profile.img_count -= 1\n",
    "        profile.pref_vec = pckl.dumps(profile_vec)\n",
    "        profile.save()\n",
    "        \n",
    "        result.delete()"
   ]
  },
  {
   "cell_type": "code",
   "execution_count": 507,
   "metadata": {},
   "outputs": [
    {
     "data": {
      "text/plain": [
       "0"
      ]
     },
     "execution_count": 507,
     "metadata": {},
     "output_type": "execute_result"
    }
   ],
   "source": [
    "len(LikedImages.objects.all())"
   ]
  },
  {
   "cell_type": "markdown",
   "metadata": {},
   "source": [
    "Test for succ user update:"
   ]
  },
  {
   "cell_type": "code",
   "execution_count": 508,
   "metadata": {},
   "outputs": [],
   "source": [
    "user = Profile.objects.all().first()"
   ]
  },
  {
   "cell_type": "code",
   "execution_count": 509,
   "metadata": {
    "scrolled": true
   },
   "outputs": [
    {
     "data": {
      "text/plain": [
       "array([0., 0., 0., 0., 0., 0., 0., 0., 0., 0., 0., 0., 0., 0., 0., 0., 0.,\n",
       "       0., 0., 0., 0., 0., 0., 0., 0., 0., 0., 0., 0., 0., 0., 0., 0., 0.,\n",
       "       0., 0., 0., 0., 0., 0., 0., 0., 0., 0., 0., 0., 0., 0., 0., 0., 0.,\n",
       "       0., 0., 0., 0., 0., 0., 0., 0., 0., 0., 0., 0., 0., 0., 0., 0., 0.,\n",
       "       0., 0., 0., 0., 0., 0., 0., 0., 0., 0., 0., 0., 0., 0., 0., 0., 0.,\n",
       "       0., 0., 0., 0., 0., 0., 0., 0., 0., 0., 0., 0., 0., 0., 0., 0., 0.,\n",
       "       0., 0., 0., 0., 0., 0., 0., 0., 0., 0., 0., 0., 0., 0., 0., 0., 0.,\n",
       "       0., 0., 0., 0., 0., 0., 0., 0., 0., 0., 0., 0., 0., 0., 0., 0., 0.,\n",
       "       0., 0., 0., 0., 0., 0., 0., 0., 0., 0., 0., 0., 0., 0., 0., 0., 0.,\n",
       "       0., 0., 0., 0., 0., 0., 0., 0., 0., 0., 0., 0., 0., 0., 0., 0., 0.,\n",
       "       0., 0., 0., 0., 0., 0., 0., 0., 0., 0., 0., 0., 0., 0., 0., 0., 0.,\n",
       "       0., 0., 0., 0., 0., 0., 0., 0., 0., 0., 0., 0., 0., 0., 0., 0., 0.,\n",
       "       0., 0., 0., 0., 0., 0., 0., 0., 0., 0., 0., 0., 0., 0., 0., 0., 0.,\n",
       "       0., 0., 0., 0., 0., 0., 0., 0., 0., 0., 0., 0., 0., 0., 0., 0., 0.,\n",
       "       0., 0., 0., 0., 0., 0., 0., 0., 0., 0., 0., 0., 0., 0., 0., 0., 0.,\n",
       "       0., 0., 0., 0., 0., 0., 0., 0., 0., 0., 0., 0., 0., 0., 0., 0., 0.,\n",
       "       0., 0., 0., 0., 0., 0., 0., 0., 0., 0., 0., 0., 0., 0., 0., 0., 0.,\n",
       "       0., 0., 0., 0., 0., 0., 0., 0., 0., 0., 0.])"
      ]
     },
     "execution_count": 509,
     "metadata": {},
     "output_type": "execute_result"
    }
   ],
   "source": [
    "pckl.loads(str(user.pref_vec))"
   ]
  },
  {
   "cell_type": "code",
   "execution_count": 510,
   "metadata": {},
   "outputs": [
    {
     "data": {
      "text/plain": [
       "0L"
      ]
     },
     "execution_count": 510,
     "metadata": {},
     "output_type": "execute_result"
    }
   ],
   "source": [
    "Profile.objects.first().img_count"
   ]
  },
  {
   "cell_type": "markdown",
   "metadata": {},
   "source": [
    "# Retrieve recommendations"
   ]
  },
  {
   "cell_type": "code",
   "execution_count": 527,
   "metadata": {},
   "outputs": [],
   "source": [
    "images = Image.objects.all()"
   ]
  },
  {
   "cell_type": "code",
   "execution_count": 528,
   "metadata": {},
   "outputs": [],
   "source": [
    "user = User.objects.all().first()\n",
    "profile = Profile.objects.filter(user_id = user.id).first()"
   ]
  },
  {
   "cell_type": "code",
   "execution_count": 529,
   "metadata": {},
   "outputs": [],
   "source": [
    "pref_vec = pckl.loads(str(profile.pref_vec))"
   ]
  },
  {
   "cell_type": "code",
   "execution_count": 530,
   "metadata": {},
   "outputs": [],
   "source": [
    "sim = []\n",
    "for img in images:\n",
    "    img_vec = pckl.loads(str(img.txt_vec)) \n",
    "    similarity = np.arccos(np.dot(img_vec,pref_vec) / (np.linalg.norm(img_vec) * np.linalg.norm(pref_vec))) \n",
    "    sim.append( (img.id,similarity))"
   ]
  },
  {
   "cell_type": "code",
   "execution_count": 531,
   "metadata": {},
   "outputs": [],
   "source": [
    "sim.sort(key=lambda tup: tup[1])"
   ]
  },
  {
   "cell_type": "code",
   "execution_count": 532,
   "metadata": {},
   "outputs": [],
   "source": [
    "top_k = 16\n",
    "indices = map(lambda rec: rec[0], sim[:top_k])"
   ]
  },
  {
   "cell_type": "code",
   "execution_count": 533,
   "metadata": {},
   "outputs": [
    {
     "data": {
      "text/plain": [
       "[9L,\n",
       " 2L,\n",
       " 4529L,\n",
       " 4339L,\n",
       " 1427L,\n",
       " 1884L,\n",
       " 2752L,\n",
       " 1679L,\n",
       " 1575L,\n",
       " 3261L,\n",
       " 4791L,\n",
       " 4267L,\n",
       " 12L,\n",
       " 4298L,\n",
       " 3813L,\n",
       " 1592L]"
      ]
     },
     "execution_count": 533,
     "metadata": {},
     "output_type": "execute_result"
    }
   ],
   "source": [
    "indices"
   ]
  },
  {
   "cell_type": "code",
   "execution_count": 536,
   "metadata": {},
   "outputs": [
    {
     "data": {
      "text/plain": [
       "16"
      ]
     },
     "execution_count": 536,
     "metadata": {},
     "output_type": "execute_result"
    }
   ],
   "source": [
    "Image.objects.filter(id__in = indices)"
   ]
  },
  {
   "cell_type": "code",
   "execution_count": null,
   "metadata": {},
   "outputs": [],
   "source": []
  }
 ],
 "metadata": {
  "kernelspec": {
   "display_name": "Django Shell-Plus",
   "language": "python",
   "name": "django_extensions"
  },
  "language_info": {
   "codemirror_mode": {
    "name": "ipython",
    "version": 3
   },
   "file_extension": ".py",
   "mimetype": "text/x-python",
   "name": "python",
   "nbconvert_exporter": "python",
   "pygments_lexer": "ipython3",
   "version": "3.6.4"
  }
 },
 "nbformat": 4,
 "nbformat_minor": 2
}
