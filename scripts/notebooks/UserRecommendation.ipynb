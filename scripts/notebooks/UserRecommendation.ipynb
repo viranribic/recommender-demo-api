{
 "cells": [
  {
   "cell_type": "markdown",
   "metadata": {},
   "source": [
    "First cell is necessary for running this notebook with django env (as if it was executed from an API call)."
   ]
  },
  {
   "cell_type": "code",
   "execution_count": null,
   "metadata": {},
   "outputs": [],
   "source": [
    "import os, sys\n",
    "DJANGO_ROOT = os.path.abspath(os.path.join(os.getcwd(),'../../'))\n",
    "sys.path.insert(0,DJANGO_ROOT)\n",
    "os.environ.setdefault(\"DJANGO_SETTINGS_MODULE\", \"local_settings.py\")\n",
    "import django\n",
    "django.setup()"
   ]
  },
  {
   "cell_type": "code",
   "execution_count": null,
   "metadata": {},
   "outputs": [],
   "source": [
    "from app.models import Profile, Image, LikedImages\n",
    "import pickle as pckl"
   ]
  },
  {
   "cell_type": "markdown",
   "metadata": {},
   "source": [
    "# Like image"
   ]
  },
  {
   "cell_type": "code",
   "execution_count": null,
   "metadata": {},
   "outputs": [],
   "source": [
    "data = {'like': False, 'id':1 }"
   ]
  },
  {
   "cell_type": "code",
   "execution_count": null,
   "metadata": {},
   "outputs": [],
   "source": [
    "user = User.objects.all().first()"
   ]
  },
  {
   "cell_type": "code",
   "execution_count": null,
   "metadata": {},
   "outputs": [],
   "source": [
    "profile = Profile.objects.all().first()"
   ]
  },
  {
   "cell_type": "code",
   "execution_count": null,
   "metadata": {},
   "outputs": [],
   "source": [
    "# import numpy as np\n",
    "# profile.pref_vec = pckl.dumps( np.zeros_like(pckl.loads(str(profile.pref_vec))))\n",
    "# profile.img_count = 0\n",
    "# profile.save()"
   ]
  },
  {
   "cell_type": "code",
   "execution_count": null,
   "metadata": {},
   "outputs": [],
   "source": [
    "query_res = LikedImages.objects.filter(user= user.id, img=data['id'] )\n",
    "\n",
    "if data['like']:\n",
    "    # Add the image to list if it's not there yet\n",
    "    if len(query_res) is 0:\n",
    "        image = Image.objects.filter(id=data['id']).first()\n",
    "\n",
    "        # update user preferences\n",
    "        profile = Profile.objects.filter(user_id=user.id).first()\n",
    "        profile_vec = pckl.loads(str(profile.pref_vec))\n",
    "        img_vec     = pckl.loads(str(image.txt_vec))\n",
    "\n",
    "        profile_vec = ((profile_vec * profile.img_count) + img_vec) / (profile.img_count + 1 )\n",
    "        profile.img_count += 1\n",
    "        profile.pref_vec = pckl.dumps(profile_vec)\n",
    "        profile.save()\n",
    "\n",
    "        # save like\n",
    "        li = LikedImages(user=user, img=image)\n",
    "        li.save()\n",
    "else:\n",
    "    if len(query_res) is 1:\n",
    "        result = query_res.first()\n",
    "        \n",
    "        # update user preferences\n",
    "        profile = Profile.objects.filter(user_id=user.id).first()\n",
    "        profile_vec = pckl.loads(str(profile.pref_vec))\n",
    "        img_vec     = pckl.loads(str(result.img.txt_vec))\n",
    "\n",
    "        profile_vec = ((profile_vec * profile.img_count) - img_vec)\n",
    "        profile_vec = profile_vec if profile.img_count == 1 else profile_vec / (profile.img_count - 1 )\n",
    "        profile.img_count -= 1\n",
    "        profile.pref_vec = pckl.dumps(profile_vec)\n",
    "        profile.save()\n",
    "        \n",
    "        result.delete()"
   ]
  },
  {
   "cell_type": "code",
   "execution_count": null,
   "metadata": {},
   "outputs": [],
   "source": [
    "len(LikedImages.objects.all())"
   ]
  },
  {
   "cell_type": "markdown",
   "metadata": {},
   "source": [
    "Test for succ user update:"
   ]
  },
  {
   "cell_type": "code",
   "execution_count": null,
   "metadata": {},
   "outputs": [],
   "source": [
    "user = Profile.objects.all().first()"
   ]
  },
  {
   "cell_type": "code",
   "execution_count": null,
   "metadata": {
    "scrolled": true
   },
   "outputs": [],
   "source": [
    "pckl.loads(str(user.pref_vec))"
   ]
  },
  {
   "cell_type": "code",
   "execution_count": null,
   "metadata": {},
   "outputs": [],
   "source": [
    "Profile.objects.first().img_count"
   ]
  },
  {
   "cell_type": "markdown",
   "metadata": {},
   "source": [
    "# Retrieve recommendations"
   ]
  },
  {
   "cell_type": "code",
   "execution_count": null,
   "metadata": {},
   "outputs": [],
   "source": [
    "from django.contrib.auth.models import User"
   ]
  },
  {
   "cell_type": "code",
   "execution_count": null,
   "metadata": {},
   "outputs": [],
   "source": [
    "images = Image.objects.all()"
   ]
  },
  {
   "cell_type": "code",
   "execution_count": null,
   "metadata": {},
   "outputs": [],
   "source": [
    "user = User.objects.all().first()\n",
    "profile = Profile.objects.filter(user_id = user.id).first()"
   ]
  },
  {
   "cell_type": "code",
   "execution_count": null,
   "metadata": {},
   "outputs": [],
   "source": [
    "pref_vec = pckl.loads(str(profile.pref_vec))"
   ]
  },
  {
   "cell_type": "code",
   "execution_count": null,
   "metadata": {},
   "outputs": [],
   "source": [
    "sim = []\n",
    "for img in images:\n",
    "    img_vec = pckl.loads(str(img.txt_vec)) \n",
    "    similarity = np.arccos(np.dot(img_vec,pref_vec) / (np.linalg.norm(img_vec) * np.linalg.norm(pref_vec))) \n",
    "    sim.append( (img.id,similarity))"
   ]
  },
  {
   "cell_type": "code",
   "execution_count": null,
   "metadata": {},
   "outputs": [],
   "source": [
    "sim.sort(key=lambda tup: tup[1])"
   ]
  },
  {
   "cell_type": "code",
   "execution_count": null,
   "metadata": {},
   "outputs": [],
   "source": [
    "top_k = 16\n",
    "indices = map(lambda rec: rec[0], sim[:top_k])"
   ]
  },
  {
   "cell_type": "code",
   "execution_count": null,
   "metadata": {},
   "outputs": [],
   "source": [
    "indices"
   ]
  },
  {
   "cell_type": "code",
   "execution_count": null,
   "metadata": {},
   "outputs": [],
   "source": [
    "Image.objects.filter(id__in = indices)"
   ]
  },
  {
   "cell_type": "markdown",
   "metadata": {},
   "source": [
    "# Retrieve recommendations (proper way)"
   ]
  },
  {
   "cell_type": "code",
   "execution_count": 13,
   "metadata": {},
   "outputs": [],
   "source": [
    "from django.contrib.auth.models import User\n",
    "from app.models import Image\n",
    "from project.project_config import empty_embed_vec, obj2pickled , pickled2obj, GALLERY_IMG_NUM\n",
    "from tqdm import tqdm\n",
    "import numpy as np"
   ]
  },
  {
   "cell_type": "code",
   "execution_count": 14,
   "metadata": {},
   "outputs": [],
   "source": [
    "images = Image.objects.all()"
   ]
  },
  {
   "cell_type": "code",
   "execution_count": 15,
   "metadata": {},
   "outputs": [],
   "source": [
    "user = User.objects.all().first()\n",
    "profile = Profile.objects.filter(user_id = user.id).first()"
   ]
  },
  {
   "cell_type": "code",
   "execution_count": 16,
   "metadata": {},
   "outputs": [],
   "source": [
    "#user = self.request.user\n",
    "images = Image.objects.all().exclude(id__in=LikedImages.objects.filter(user=user).values_list('img', flat=True))\n",
    "liked_images = Image.objects.all().filter(id__in=LikedImages.objects.filter(user=user).values_list('img', flat=True))"
   ]
  },
  {
   "cell_type": "code",
   "execution_count": 17,
   "metadata": {},
   "outputs": [],
   "source": [
    "total_liked_count = len(liked_images)"
   ]
  },
  {
   "cell_type": "code",
   "execution_count": null,
   "metadata": {},
   "outputs": [],
   "source": [
    "# From liked images extract the number of classes and mean vec for each label\n",
    "usr_class_emb = {}\n",
    "for image in liked_images:\n",
    "    if image.label not in usr_class_emb:\n",
    "        class_emb = {'vec':empty_embed_vec(), 'count':0}\n",
    "    else:\n",
    "        class_emb = usr_class_emb[image.label]\n",
    "    class_emb['vec'] += pickled2obj(image.txt_vec)\n",
    "    class_emb['count'] +=1\n",
    "    usr_class_emb[image.label] = class_emb\n",
    "    \n",
    "for _,val in usr_class_emb.items():\n",
    "    val['vec'] /= val['count']"
   ]
  },
  {
   "cell_type": "code",
   "execution_count": null,
   "metadata": {},
   "outputs": [],
   "source": [
    "def find_similar(pref_vec,images=None, k_similar=20):\n",
    "    if images is None:\n",
    "        images = Image.objects.all().exclude(id__in=LikedImages.objects.filter(user=user).values_list('img', flat=True))\n",
    "    sim = []\n",
    "    for img in images:\n",
    "        img_vec = pickled2obj(img.txt_vec)\n",
    "        similarity = np.arccos(np.dot(img_vec, pref_vec) / (np.linalg.norm(img_vec) * np.linalg.norm(pref_vec)))\n",
    "        sim.append((img.id, similarity))\n",
    "\n",
    "    sim.sort(key=lambda tup: tup[1])\n",
    "    indices = map(lambda rec: rec[0], sim[:k_similar])\n",
    "    return indices"
   ]
  },
  {
   "cell_type": "code",
   "execution_count": null,
   "metadata": {},
   "outputs": [],
   "source": [
    "# Fetch k similar for each class and then\n",
    "output_images_indices = []\n",
    "class_count = len(usr_class_emb)\n",
    "for val in usr_class_emb.values():\n",
    "    class_count -= 1\n",
    "    pref_vec = val['vec']\n",
    "    sim_img_count = round(val['count'] / total_liked_count * GALLERY_IMG_NUM) \n",
    "    if class_count is 0:\n",
    "        sim_img_count = GALLERY_IMG_NUM - len(output_images)\n",
    "    sim_image_indices = find_similar(pref_vec, images, sim_img_count)\n",
    "    output_images_indices += sim_image_indices"
   ]
  },
  {
   "cell_type": "code",
   "execution_count": null,
   "metadata": {},
   "outputs": [],
   "source": [
    "Image.objects.filter(id__in = output_images_indices)"
   ]
  },
  {
   "cell_type": "code",
   "execution_count": null,
   "metadata": {},
   "outputs": [],
   "source": []
  }
 ],
 "metadata": {
  "kernelspec": {
   "display_name": "Django Shell-Plus",
   "language": "python",
   "name": "django_extensions"
  },
  "language_info": {
   "codemirror_mode": {
    "name": "ipython",
    "version": 3
   },
   "file_extension": ".py",
   "mimetype": "text/x-python",
   "name": "python",
   "nbconvert_exporter": "python",
   "pygments_lexer": "ipython3",
   "version": "3.6.4"
  }
 },
 "nbformat": 4,
 "nbformat_minor": 2
}
