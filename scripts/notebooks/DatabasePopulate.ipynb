{
 "cells": [
  {
   "cell_type": "markdown",
   "metadata": {},
   "source": [
    "First cell is necessary for running this notebook with django env (as if it was executed from an API call)."
   ]
  },
  {
   "cell_type": "code",
   "execution_count": 1,
   "metadata": {},
   "outputs": [],
   "source": [
    "import os, sys\n",
    "DJANGO_ROOT = os.path.abspath(os.path.join(os.getcwd(),'../../'))\n",
    "sys.path.insert(0,DJANGO_ROOT)\n",
    "os.environ.setdefault(\"DJANGO_SETTINGS_MODULE\", \"local_settings.py\")\n",
    "import django\n",
    "django.setup()"
   ]
  },
  {
   "cell_type": "code",
   "execution_count": 2,
   "metadata": {
    "scrolled": true
   },
   "outputs": [
    {
     "name": "stdout",
     "output_type": "stream",
     "text": [
      "sys.version_info(major=3, minor=6, micro=4, releaselevel='final', serial=0)\n"
     ]
    }
   ],
   "source": [
    "import numpy as np\n",
    "import tqdm\n",
    "from skimage.io import imread\n",
    "from skimage.transform import resize\n",
    "import matplotlib.pyplot as plt\n",
    "\n",
    "\n",
    "import python.stl10_input as STL10\n",
    "import os"
   ]
  },
  {
   "cell_type": "code",
   "execution_count": 3,
   "metadata": {},
   "outputs": [],
   "source": [
    "from app.models import Image"
   ]
  },
  {
   "cell_type": "markdown",
   "metadata": {},
   "source": [
    "# Database populate notebook"
   ]
  },
  {
   "cell_type": "markdown",
   "metadata": {},
   "source": [
    "Load data:"
   ]
  },
  {
   "cell_type": "code",
   "execution_count": 4,
   "metadata": {},
   "outputs": [],
   "source": [
    "def format_path(root,path):\n",
    "    return os.path.abspath(os.path.join(root,path))"
   ]
  },
  {
   "cell_type": "code",
   "execution_count": 5,
   "metadata": {},
   "outputs": [],
   "source": [
    "DATA_ROOT=format_path(DJANGO_ROOT,'./scripts/data')\n",
    "\n",
    "DATA_PATH = format_path(DATA_ROOT,'./train_X.bin') \n",
    "LABEL_PATH = format_path(DATA_ROOT,'./train_y.bin')\n",
    "PROCESSED_PATH = format_path(DATA_ROOT,'./processed_train_X.npy')"
   ]
  },
  {
   "cell_type": "code",
   "execution_count": 6,
   "metadata": {},
   "outputs": [],
   "source": [
    "x_inp = STL10.read_all_images(DATA_PATH)\n",
    "label = STL10.read_labels(LABEL_PATH)\n",
    "x_processed = np.load(PROCESSED_PATH)"
   ]
  },
  {
   "cell_type": "markdown",
   "metadata": {},
   "source": [
    "Migrate data:"
   ]
  },
  {
   "cell_type": "code",
   "execution_count": 7,
   "metadata": {},
   "outputs": [],
   "source": [
    "from imageio import imsave\n",
    "import pickle as pckl\n",
    "from app.models import Image\n",
    "import codecs"
   ]
  },
  {
   "cell_type": "code",
   "execution_count": 8,
   "metadata": {},
   "outputs": [],
   "source": [
    "IMAGE_ROOT = 'static/img/recdemo'\n",
    "IMAGE_NAME = 'id@{}.png'"
   ]
  },
  {
   "cell_type": "code",
   "execution_count": 9,
   "metadata": {},
   "outputs": [],
   "source": [
    "def obj2pickled(obj):\n",
    "    return codecs.encode(pckl.dumps(obj), \"base64\").decode()\n",
    "\n",
    "def pickled2obj(pickled):\n",
    "    return pckl.loads(codecs.decode(pickled.encode(), \"base64\"))"
   ]
  },
  {
   "cell_type": "code",
   "execution_count": 10,
   "metadata": {
    "scrolled": true
   },
   "outputs": [
    {
     "name": "stderr",
     "output_type": "stream",
     "text": [
      "0it [00:00, ?it/s]/media/vribic/DATA/linux/ubuntu_mate/home/projects/webdev/heroku_django/project/venv/lib/python3.6/site-packages/imageio/core/util.py:78: UserWarning: Lossy conversion from float64 to uint8, range [0, 1]\n",
      "  dtype_str, out_type.__name__))\n",
      "5000it [07:50, 10.62it/s]\n"
     ]
    }
   ],
   "source": [
    "for index, (img,vec,y) in tqdm.tqdm(enumerate(zip(x_inp ,x_processed, label))):    \n",
    "    test_img = resize(img,(229,229), mode = 'constant')\n",
    "    # 1. Determinate path for the next image\n",
    "    path = os.path.join( IMAGE_ROOT, IMAGE_NAME.format(index))\n",
    "    imsave(os.path.join( DJANGO_ROOT, path) , test_img)\n",
    "    # 2. Pickle the vector\n",
    "    vec_p = obj2pickled(vec)\n",
    "    # 3. Save path + vec + label as record in DB\n",
    "    img = Image(index+1, path, y, vec_p)\n",
    "    img.save()"
   ]
  }
 ],
 "metadata": {
  "kernelspec": {
   "display_name": "Python 2",
   "language": "python",
   "name": "python2"
  },
  "language_info": {
   "codemirror_mode": {
    "name": "ipython",
    "version": 3
   },
   "file_extension": ".py",
   "mimetype": "text/x-python",
   "name": "python",
   "nbconvert_exporter": "python",
   "pygments_lexer": "ipython3",
   "version": "3.6.4"
  }
 },
 "nbformat": 4,
 "nbformat_minor": 2
}
